{
 "cells": [
  {
   "cell_type": "markdown",
   "id": "49c9a574",
   "metadata": {},
   "source": [
    "### **Tutorial 01: Loading CSV file with Pandas**\n",
    "**Focus:** Working with CSV Files using Pandas in Python\n",
    "\n",
    "1. Loading CSV files using `pandas.read_csv()` with different options  \n",
    "2. Inspecting data using `head()`, `dtypes`, `shape`, and other basic functions  \n",
    "3. Understanding data types and structure within a DataFrame  "
   ]
  },
  {
   "cell_type": "code",
   "execution_count": 1,
   "id": "8645b66f",
   "metadata": {},
   "outputs": [],
   "source": [
    "# Import Libraries\n",
    "\n",
    "import pandas as pd\n",
    "import numpy as np"
   ]
  },
  {
   "cell_type": "code",
   "execution_count": 2,
   "id": "bd63c58b",
   "metadata": {},
   "outputs": [
    {
     "name": "stdout",
     "output_type": "stream",
     "text": [
      "\n",
      " Dataset contains 1887 rows and 22 columns\n",
      "\n",
      " Features / Column Names:\n",
      "['Year', 'ISO Alpha-2 Country code', 'Country name', 'Suspended parliament', 'Structure of parliament', 'Region', 'Structure & status of parliament', 'Chamber name (translated)', 'Political system', 'Statutory number of members per country', 'Parliament name', 'Parliamentary term (years)', 'IPU membership', 'Affiliation periods', 'Statutory number of members', 'Current number of members', 'Men', 'Women', 'Percentage of women', 'Population (in thousands)', 'Gender quota', 'Election date(s)']\n",
      "First 5 rows of the dataset:\n",
      "<class 'pandas.core.frame.DataFrame'>\n",
      "RangeIndex: 1887 entries, 0 to 1886\n",
      "Data columns (total 22 columns):\n",
      " #   Column                                   Non-Null Count  Dtype  \n",
      "---  ------                                   --------------  -----  \n",
      " 0   Year                                     1887 non-null   int64  \n",
      " 1   ISO Alpha-2 Country code                 1873 non-null   object \n",
      " 2   Country name                             1887 non-null   object \n",
      " 3   Suspended parliament                     1881 non-null   object \n",
      " 4   Structure of parliament                  1887 non-null   object \n",
      " 5   Region                                   1887 non-null   object \n",
      " 6   Structure & status of parliament         1887 non-null   object \n",
      " 7   Chamber name (translated)                1879 non-null   object \n",
      " 8   Political system                         1887 non-null   object \n",
      " 9   Statutory number of members per country  1866 non-null   float64\n",
      " 10  Parliament name                          1802 non-null   object \n",
      " 11  Parliamentary term (years)               1814 non-null   float64\n",
      " 12  IPU membership                           1887 non-null   object \n",
      " 13  Affiliation periods                      1887 non-null   object \n",
      " 14  Statutory number of members              1881 non-null   float64\n",
      " 15  Current number of members                1879 non-null   float64\n",
      " 16  Men                                      1726 non-null   float64\n",
      " 17  Women                                    1879 non-null   float64\n",
      " 18  Percentage of women                      1879 non-null   float64\n",
      " 19  Population (in thousands)                1887 non-null   int64  \n",
      " 20  Gender quota                             1822 non-null   object \n",
      " 21  Election date(s)                         1887 non-null   object \n",
      "dtypes: float64(7), int64(2), object(13)\n",
      "memory usage: 324.5+ KB\n"
     ]
    }
   ],
   "source": [
    "# Load the Dataset\n",
    "\n",
    "df = pd.read_csv('./datasets/IPU2019_2025_raw.csv', encoding='windows-1252')\n",
    "\n",
    "# Preview the Data\n",
    "print(f\"\\n Dataset contains {df.shape[0]} rows and {df.shape[1]} columns\")\n",
    "\n",
    "print(\"\\n Features / Column Names:\")\n",
    "print(df.columns.tolist())\n",
    "\n",
    "print(\"First 5 rows of the dataset:\")\n",
    "df.head(5)\n",
    "\n",
    "df.info()"
   ]
  },
  {
   "cell_type": "code",
   "execution_count": 3,
   "id": "fffb2a04",
   "metadata": {},
   "outputs": [
    {
     "name": "stdout",
     "output_type": "stream",
     "text": [
      "Data Types:\n",
      "Year                                         int64\n",
      "ISO Alpha-2 Country code                    object\n",
      "Country name                                object\n",
      "Suspended parliament                        object\n",
      "Structure of parliament                     object\n",
      "Region                                      object\n",
      "Structure & status of parliament            object\n",
      "Chamber name (translated)                   object\n",
      "Political system                            object\n",
      "Statutory number of members per country    float64\n",
      "Parliament name                             object\n",
      "Parliamentary term (years)                 float64\n",
      "IPU membership                              object\n",
      "Affiliation periods                         object\n",
      "Statutory number of members                float64\n",
      "Current number of members                  float64\n",
      "Men                                        float64\n",
      "Women                                      float64\n",
      "Percentage of women                        float64\n",
      "Population (in thousands)                    int64\n",
      "Gender quota                                object\n",
      "Election date(s)                            object\n",
      "dtype: object\n"
     ]
    }
   ],
   "source": [
    "print(\"Data Types:\")\n",
    "print(df.dtypes)"
   ]
  },
  {
   "cell_type": "code",
   "execution_count": 4,
   "id": "c395778a",
   "metadata": {},
   "outputs": [
    {
     "name": "stdout",
     "output_type": "stream",
     "text": [
      "13\n",
      "Categorical Columns:\n",
      "['ISO Alpha-2 Country code', 'Country name', 'Suspended parliament', 'Structure of parliament', 'Region', 'Structure & status of parliament', 'Chamber name (translated)', 'Political system', 'Parliament name', 'IPU membership', 'Affiliation periods', 'Gender quota', 'Election date(s)']\n"
     ]
    }
   ],
   "source": [
    "obj_categorical = df.select_dtypes(include='object')\n",
    "print(obj_categorical.shape[1])\n",
    "\n",
    "print(\"Categorical Columns:\")\n",
    "print(obj_categorical.columns.tolist())"
   ]
  },
  {
   "cell_type": "code",
   "execution_count": 5,
   "id": "56a2ffa6",
   "metadata": {},
   "outputs": [
    {
     "name": "stdout",
     "output_type": "stream",
     "text": [
      "9\n",
      "Numerical Columns:\n",
      "['Year', 'Statutory number of members per country', 'Parliamentary term (years)', 'Statutory number of members', 'Current number of members', 'Men', 'Women', 'Percentage of women', 'Population (in thousands)']\n"
     ]
    }
   ],
   "source": [
    "cols_numerical = df.select_dtypes(include=[np.number])\n",
    "print(cols_numerical.shape[1])\n",
    "\n",
    "print(\"Numerical Columns:\")\n",
    "print(cols_numerical.columns.tolist())"
   ]
  }
 ],
 "metadata": {
  "kernelspec": {
   "display_name": ".venv",
   "language": "python",
   "name": "python3"
  },
  "language_info": {
   "codemirror_mode": {
    "name": "ipython",
    "version": 3
   },
   "file_extension": ".py",
   "mimetype": "text/x-python",
   "name": "python",
   "nbconvert_exporter": "python",
   "pygments_lexer": "ipython3",
   "version": "3.12.2"
  }
 },
 "nbformat": 4,
 "nbformat_minor": 5
}
