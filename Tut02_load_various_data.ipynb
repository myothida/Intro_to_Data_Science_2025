{
 "cells": [
  {
   "cell_type": "markdown",
   "id": "c53555c8",
   "metadata": {},
   "source": [
    "### **Tutorial 02: Load various data**  \n",
    "**Focus:** Loading Various Types of Data for Analysis\n",
    "\n",
    "1. Loading data from Excel files using `pandas.read_excel()`  \n",
    "2. Reading data from JSON and text files  \n",
    "3. Connecting to APIs and retrieving data using `requests`  \n",
    "4. Basic web scraping with `BeautifulSoup` and `pandas.read_html()`  \n",
    "5. Handling different data formats and common loading issues\n"
   ]
  },
  {
   "cell_type": "code",
   "execution_count": null,
   "id": "480e1a91",
   "metadata": {},
   "outputs": [],
   "source": [
    "import pandas as pd\n",
    "import json\n",
    "import requests\n",
    "from bs4 import BeautifulSoup\n"
   ]
  },
  {
   "cell_type": "code",
   "execution_count": null,
   "id": "f9dd1242",
   "metadata": {},
   "outputs": [],
   "source": [
    "df_excel = pd.read_excel('./datasets/sample_data.xlsx') \n",
    "df_excel.head()"
   ]
  },
  {
   "cell_type": "code",
   "execution_count": null,
   "id": "dbd23401",
   "metadata": {},
   "outputs": [],
   "source": [
    "print(\"skip the first row:\")\n",
    "\n",
    "df_excel = pd.read_excel('./datasets/sample_data.xlsx', skiprows=1) \n",
    "df_excel.head()"
   ]
  },
  {
   "cell_type": "code",
   "execution_count": null,
   "id": "562bb5fb",
   "metadata": {},
   "outputs": [],
   "source": [
    "db_path = './datasets/census_data.db'\n",
    "db_conn = f\"sqlite:///{db_path}\"\n",
    "\n",
    "query = \"SELECT * FROM census;\"\n",
    "df = pd.read_sql_query(query, db_conn)\n",
    "df"
   ]
  },
  {
   "cell_type": "code",
   "execution_count": null,
   "id": "c7faa09f",
   "metadata": {},
   "outputs": [],
   "source": [
    "url = \"https://api.openweathermap.org/data/2.5/weather?q=London&appid=YOUR_API_KEY\"\n",
    "\n",
    "response = requests.get(url)\n",
    "data_api = response.json()\n",
    "\n",
    "print(data_api['weather'][0]['description'])\n"
   ]
  }
 ],
 "metadata": {
  "kernelspec": {
   "display_name": ".venv",
   "language": "python",
   "name": "python3"
  },
  "language_info": {
   "codemirror_mode": {
    "name": "ipython",
    "version": 3
   },
   "file_extension": ".py",
   "mimetype": "text/x-python",
   "name": "python",
   "nbconvert_exporter": "python",
   "pygments_lexer": "ipython3",
   "version": "3.12.2"
  }
 },
 "nbformat": 4,
 "nbformat_minor": 5
}
